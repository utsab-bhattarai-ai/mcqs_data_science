{
 "cells": [
  {
   "cell_type": "markdown",
   "id": "6bc20846",
   "metadata": {},
   "source": [
    "### Q1. Which of the following are key competencies expected from a data scientist in an end-to-end project lifecycle?"
   ]
  },
  {
   "cell_type": "markdown",
   "id": "ef7c9ce0",
   "metadata": {},
   "source": [
    "A. Data collection and preprocessing\n",
    "B. Model interpretability and explainability\n",
    "C. Front-end UI development\n",
    "D. Statistical hypothesis testing\n",
    "E. Cloud-based model deployment"
   ]
  },
  {
   "cell_type": "markdown",
   "id": "64c9592a",
   "metadata": {},
   "source": [
    "### Q2. Which of the following practices improve the clarity and effectiveness of data visualization when communicating insights to stakeholders?"
   ]
  },
  {
   "cell_type": "markdown",
   "id": "245f4350",
   "metadata": {},
   "source": [
    "A. Using consistent color schemes and legends\n",
    "B. Avoiding context or labels to make visuals minimal\n",
    "C. Choosing visualization types appropriate for data type and purpose\n",
    "D. Adding unnecessary 3D effects for aesthetic appeal\n",
    "E. Highlighting key patterns, anomalies, or trends clearly"
   ]
  }
 ],
 "metadata": {
  "language_info": {
   "name": "python"
  }
 },
 "nbformat": 4,
 "nbformat_minor": 5
}
