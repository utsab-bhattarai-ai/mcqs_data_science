{
 "cells": [
  {
   "cell_type": "markdown",
   "id": "bf8c6571",
   "metadata": {},
   "source": [
    "### Q1"
   ]
  },
  {
   "cell_type": "markdown",
   "id": "92f5d678",
   "metadata": {},
   "source": [
    "A well-rounded data scientist must demonstrate proficiency in:\n",
    "\n",
    "A. Data collection and preprocessing: Critical for ensuring data quality and usability.\n",
    "\n",
    "B. Model interpretability and explainability: Vital for trust, compliance, and decision-making.\n",
    "\n",
    "D. Statistical hypothesis testing: Fundamental for validating assumptions and deriving inferences.\n",
    "\n",
    "E. Cloud-based model deployment: Increasingly essential for scalability and real-world application."
   ]
  },
  {
   "cell_type": "markdown",
   "id": "ca5ccb65",
   "metadata": {},
   "source": [
    "❌ C. Front-end UI development — while helpful, it’s not a core data science competency; it’s more of a software engineering or product design task."
   ]
  },
  {
   "cell_type": "markdown",
   "id": "a4482f61",
   "metadata": {},
   "source": [
    "### Q2"
   ]
  },
  {
   "cell_type": "markdown",
   "id": "45ff535c",
   "metadata": {},
   "source": [
    "Effective communication of data insights depends on clear, intentional design choices:\n",
    "\n",
    "A. Consistent color schemes and legends: Avoid confusion and help maintain interpretability.\n",
    "\n",
    "C. Choosing the right visualization type: Ensures that the data story aligns with its analytical purpose (e.g., trend vs. comparison vs. distribution).\n",
    "\n",
    "E. Highlighting key insights: Focuses the viewer’s attention on what truly matters."
   ]
  },
  {
   "cell_type": "markdown",
   "id": "060bf8d0",
   "metadata": {},
   "source": [
    "❌ B and D actually reduce clarity: lack of context or flashy 3D effects distract from the data story."
   ]
  }
 ],
 "metadata": {
  "language_info": {
   "name": "python"
  }
 },
 "nbformat": 4,
 "nbformat_minor": 5
}
