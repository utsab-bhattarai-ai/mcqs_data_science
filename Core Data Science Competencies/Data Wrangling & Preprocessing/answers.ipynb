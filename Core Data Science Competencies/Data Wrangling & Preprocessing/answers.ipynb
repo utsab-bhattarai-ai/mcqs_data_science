{
 "cells": [
  {
   "cell_type": "markdown",
   "id": "ef3fe2a4",
   "metadata": {},
   "source": [
    "### Q1"
   ]
  },
  {
   "cell_type": "markdown",
   "id": "7fc93119",
   "metadata": {},
   "source": [
    "✅ Correct Answer: C (Frequency or target encoding)"
   ]
  },
  {
   "cell_type": "markdown",
   "id": "a3f083a5",
   "metadata": {},
   "source": [
    "**One-hot encoding (A)** is computationally expensive and can explode feature space when categories are large (10k+ cities → 10k features).\n",
    "\n",
    "**Frequency or target encoding (C)** reduces dimensionality by representing categories with numerical statistics derived from data distribution — scalable and effective for large datasets.\n",
    "\n",
    "Label encoding (B) imposes arbitrary order, misleading the model.\n",
    "\n",
    "Dropping (D) sacrifices potentially valuable information."
   ]
  },
  {
   "cell_type": "markdown",
   "id": "cbd708d1",
   "metadata": {},
   "source": [
    "**Key takeaway**: For high-cardinality categorical variables, encoding efficiency matters as much as interpretability."
   ]
  },
  {
   "cell_type": "markdown",
   "id": "c1ef12df",
   "metadata": {},
   "source": [
    "### Q2"
   ]
  },
  {
   "cell_type": "markdown",
   "id": "d2e15c66",
   "metadata": {},
   "source": [
    "✅ Correct Answer: C (Introduce a binary indicator and model explicitly)"
   ]
  },
  {
   "cell_type": "markdown",
   "id": "36572979",
   "metadata": {},
   "source": [
    "MNAR implies missingness depends on the unobserved value itself (e.g., higher income people refusing to report income).\n",
    "\n",
    "Adding a binary flag lets models learn patterns related to missingness — crucial for preserving information.\n",
    "\n",
    "Mean/median imputation (A) distorts distribution; dropping rows (B) introduces bias; zeros (D) create artificial signals."
   ]
  },
  {
   "cell_type": "markdown",
   "id": "df668ece",
   "metadata": {},
   "source": [
    "**Key takeaway**: For MNAR, model missingness itself — don’t just fill it."
   ]
  },
  {
   "cell_type": "markdown",
   "id": "28745a0b",
   "metadata": {},
   "source": [
    "### Q3"
   ]
  },
  {
   "cell_type": "markdown",
   "id": "81304167",
   "metadata": {},
   "source": [
    "✅ Correct Answer: D (Interpolation while maintaining chronological order)"
   ]
  },
  {
   "cell_type": "markdown",
   "id": "39745b56",
   "metadata": {},
   "source": [
    "Interpolation preserves temporal structure without leaking future data.\n",
    "\n",
    "Backward-fill (A) or forward-fill (B) may cause leakage if future data fills past gaps.\n",
    "\n",
    "Random assignment (C) destroys temporal integrity."
   ]
  },
  {
   "cell_type": "markdown",
   "id": "bbb0d30d",
   "metadata": {},
   "source": [
    "**Key takeaway**: Always maintain chronological causality in time-series preprocessing."
   ]
  },
  {
   "cell_type": "markdown",
   "id": "b8325547",
   "metadata": {},
   "source": [
    "### Q4"
   ]
  },
  {
   "cell_type": "markdown",
   "id": "8ee12fe5",
   "metadata": {},
   "source": [
    "✅ Correct Answer: C (Robust scaling using median and IQR)"
   ]
  },
  {
   "cell_type": "markdown",
   "id": "3b8cded9",
   "metadata": {},
   "source": [
    "PCA is variance-sensitive; extreme values dominate principal components.\n",
    "\n",
    "**Robust scaling** uses median and interquartile range, mitigating outlier influence.\n",
    "\n",
    "Log transform (D) helps only for right-skewed data, not universally for all features.\n",
    "\n",
    "Standardization (A) and Min–Max (B) both suffer from outlier distortion."
   ]
  },
  {
   "cell_type": "markdown",
   "id": "fa13e1c4",
   "metadata": {},
   "source": [
    "**Key takeaway**: Before PCA, robust scaling stabilizes feature variance and prevents skewed component dominance."
   ]
  },
  {
   "cell_type": "markdown",
   "id": "1e3b1019",
   "metadata": {},
   "source": [
    "### Q5"
   ]
  },
  {
   "cell_type": "markdown",
   "id": "9a36c4bc",
   "metadata": {},
   "source": [
    "✅ Correct Answer: C (Standardize schema: align column names, data types, and keys)"
   ]
  },
  {
   "cell_type": "markdown",
   "id": "a57925bd",
   "metadata": {},
   "source": [
    "Consistency in schema (naming conventions, dtypes, and join keys) ensures proper merging.\n",
    "\n",
    "Normalization (A) or feature selection (D) are post-integration steps.\n",
    "\n",
    "Converting to strings (B) may corrupt numeric operations."
   ]
  },
  {
   "cell_type": "markdown",
   "id": "43c7f3d9",
   "metadata": {},
   "source": [
    "**Key takeaway**: Schema standardization is the foundation of multi-source data wrangling."
   ]
  }
 ],
 "metadata": {
  "language_info": {
   "name": "python"
  }
 },
 "nbformat": 4,
 "nbformat_minor": 5
}
